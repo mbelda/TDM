{
 "cells": [
  {
   "cell_type": "markdown",
   "metadata": {},
   "source": [
    "Nombre del estudiante: María José Belda Beneyto"
   ]
  },
  {
   "cell_type": "markdown",
   "metadata": {},
   "source": [
    "\n",
    "# Tratamiendo de Datos Masivos - Práctica 1\n",
    "\n",
    "Queremos descargar información sobre incidencias de circulación a partir la página \n",
    "\n",
    "http://infocar.dgt.es/etraffic/Incidencias?caracter=acontecimiento&orden=fechahora_ini%20DESC"
   ]
  },
  {
   "cell_type": "markdown",
   "metadata": {},
   "source": [
    "Lo primero es asegurarnos de que disponemos de selenium y de [chromedriver](https://sites.google.com/a/chromium.org/chromedriver/home). En la siguiente caja de código debemos poner el path a chromedriver"
   ]
  },
  {
   "cell_type": "code",
   "execution_count": 1,
   "metadata": {},
   "outputs": [],
   "source": [
    "chromedriver = \"c:/hlocal/tdm/chromedriver.exe\"\n"
   ]
  },
  {
   "cell_type": "markdown",
   "metadata": {},
   "source": [
    "La siguiente caja de código debe abrir un navegador chrome y deja en la variable `driver` el enlace al navegador que utilizaremos de punto de partida para obtener los datos."
   ]
  },
  {
   "cell_type": "code",
   "execution_count": 4,
   "metadata": {},
   "outputs": [],
   "source": [
    "# Arrancamos una instancia de google Chrome. \n",
    "import os\n",
    "from selenium import webdriver  # si da error, desde anaconda prompt sobre python 3.x hacer pip install --user  selenium\n",
    "\n",
    "os.environ[\"webdriver.chrome.driver\"] = chromedriver\n",
    "chrome_options = webdriver.ChromeOptions()\n",
    "chrome_options.add_argument('--no-sandbox')\n",
    "driver = webdriver.Chrome(executable_path=chromedriver,options=chrome_options)"
   ]
  },
  {
   "cell_type": "markdown",
   "metadata": {},
   "source": [
    "#### Ejercicio 1 [0.5]\n",
    "\n",
    "Cargar la página indicada en la URL"
   ]
  },
  {
   "cell_type": "code",
   "execution_count": 5,
   "metadata": {},
   "outputs": [],
   "source": [
    "url = \"http://infocar.dgt.es/etraffic/Incidencias?caracter=acontecimiento&orden=fechahora_ini%20DESC\""
   ]
  },
  {
   "cell_type": "markdown",
   "metadata": {},
   "source": [
    "Solución"
   ]
  },
  {
   "cell_type": "code",
   "execution_count": 6,
   "metadata": {},
   "outputs": [],
   "source": [
    "driver.get(url)"
   ]
  },
  {
   "cell_type": "markdown",
   "metadata": {},
   "source": [
    "#### Ejercicio 2 [1]\n",
    "Seleccionar la comunidad autónoma de Madrid de la lista de comunidades. \n",
    "\n",
    "Pista:\n",
    "- Primero inspeccionar la lista para ver cómo acceder a ella. Normalmente utilizaremos alguna variante de find_element_xxxx. La lista de estos métodos puede consultarse [aquí](https://selenium-python.readthedocs.io/locating-elements.html)\n",
    "\n",
    "- Una vez hecho esto investigar el uso de Select para seleccionar el elemento que deseemos de la lista. \n",
    "\n",
    "Ojo: si se usa el texto de la lista desplegable para seleccionar, ser cuidadoso con poner el texto tal cual aparece\n",
    "\n",
    "\n",
    "Solución:"
   ]
  },
  {
   "cell_type": "code",
   "execution_count": 8,
   "metadata": {},
   "outputs": [],
   "source": [
    "from selenium.webdriver.support.ui import Select\n",
    "select = Select(driver.find_element_by_id('ca'))\n",
    "select.select_by_visible_text('Madrid, Comunidad de ')"
   ]
  },
  {
   "cell_type": "markdown",
   "metadata": {},
   "source": [
    "Análogamente, seleccionar la provincia de Madrid de la lista de provincias.\n",
    "\n",
    "Solución:"
   ]
  },
  {
   "cell_type": "code",
   "execution_count": 9,
   "metadata": {},
   "outputs": [],
   "source": [
    "select = Select(driver.find_element_by_id('provIci'))\n",
    "select.select_by_visible_text('MADRID')"
   ]
  },
  {
   "cell_type": "markdown",
   "metadata": {},
   "source": [
    "#### Ejercicio 3 [1]\n",
    "\n",
    "Hacer click en las casillas (check box) \"Retenciones\" y \"Obras\"\n",
    "\n",
    "Solución:"
   ]
  },
  {
   "cell_type": "code",
   "execution_count": 13,
   "metadata": {},
   "outputs": [],
   "source": [
    "driver.find_element_by_id('IncidenciasRETENCION').click()\n",
    "driver.find_element_by_id('IncidenciasOBRAS').click()"
   ]
  },
  {
   "cell_type": "markdown",
   "metadata": {},
   "source": [
    "#### Ejercicio 4 [0.5]\n",
    "\n",
    "Hacemos click en el botón \"Consultar\""
   ]
  },
  {
   "cell_type": "code",
   "execution_count": 14,
   "metadata": {},
   "outputs": [],
   "source": [
    "driver.find_element_by_id('consultar').click()"
   ]
  },
  {
   "cell_type": "markdown",
   "metadata": {},
   "source": [
    "A partir de aquí nos centraremos en  la información que se muestra por pantalla, para extraerla y analizarla\n",
    "![](https://i.ibb.co/R0FMzyr/tabla.png)"
   ]
  },
  {
   "cell_type": "markdown",
   "metadata": {},
   "source": [
    "#### Ejercicio 5 [1 punto]\n",
    "\n",
    "¿Se te ocurre, para el futuro, alguna forma más rápida de acceder a esta página sin tener que seleccionar comunidad y provincia de listas y marcar las casillas Retenciones y Obras ?\n",
    "\n",
    "Solucíon (escribir un par de líneas explicando la propuesta)"
   ]
  },
  {
   "cell_type": "code",
   "execution_count": null,
   "metadata": {},
   "outputs": [],
   "source": [
    "Estaría bien que se añadiese a la web un acceso directo para descargar los datos en formato csv como ya existe en otras webs.\n",
    "De esa forma, el fichero sería más grande porque contendría los datos de todas las provincias y comunidades pero se podrían\n",
    "manejar más fácilmente con un data frame."
   ]
  },
  {
   "cell_type": "markdown",
   "metadata": {},
   "source": []
  },
  {
   "cell_type": "markdown",
   "metadata": {},
   "source": [
    "#### Ejercicio 6  [1 punto]\n",
    "\n",
    "La primera palabra de la primera línea de la columna DESCRIPCIÓN será OBRA si se trata de una obra o RETENCIÓN si es una retención. Mostrar el número de obras. \n",
    "\n",
    "Nota: se valorará (medio punto) el uso de `find_elements_by_xpath` para obtener la lista de elementos tipo td que contienen el texto que puede comenzar (o no) con \"OBRA\".\n",
    "\n",
    "Solución:"
   ]
  },
  {
   "cell_type": "code",
   "execution_count": 36,
   "metadata": {},
   "outputs": [
    {
     "data": {
      "text/plain": [
       "33"
      ]
     },
     "execution_count": 36,
     "metadata": {},
     "output_type": "execute_result"
    }
   ],
   "source": [
    "tabla = driver.find_element_by_id('tablaincidencias')\n",
    "trs = tabla.find_elements_by_xpath(\"tbody/tr\")\n",
    "\n",
    "#Recorremos las filas, leyendo el valor de la columna descripción y viendo si es una obra\n",
    "obras = [] #Me guardo las incidencias que son obras para la última pregunta\n",
    "i = 0\n",
    "numObras = 0\n",
    "while i<len(trs): \n",
    "    tr = trs[i]\n",
    "    desc = tr.find_element_by_xpath(\"td[6]\").text\n",
    "    if \"OBRA\" in desc:\n",
    "        numObras+=1\n",
    "        obras.append(tr)\n",
    "    i+=1\n",
    "\n",
    "numObras"
   ]
  },
  {
   "cell_type": "markdown",
   "metadata": {},
   "source": [
    "#### Ejercicio 7 [2 puntos]\n",
    "para cada incidencia cuya fecha de inicio (primera columna)  no coincida con el día de la fecha, mostrar su fecha de inicio (solo fecha, la hora no importa). Al acabar mostrar el total de incidencias con estas características.\n",
    "\n",
    "Solución:"
   ]
  },
  {
   "cell_type": "code",
   "execution_count": 34,
   "metadata": {},
   "outputs": [
    {
     "name": "stdout",
     "output_type": "stream",
     "text": [
      "02/10/2020\n",
      "02/10/2020\n",
      "10/09/2020\n",
      "10/09/2020\n",
      "10/09/2020\n",
      "07/08/2020\n",
      "07/08/2020\n",
      "21/06/2020\n",
      "05/08/2019\n",
      "9\n"
     ]
    }
   ],
   "source": [
    "#Primero conseguimos la fecha actual\n",
    "from datetime import date\n",
    "\n",
    "today = date.today()\n",
    "# dd/mm/yyyy\n",
    "dtoday = today.strftime(\"%d/%m/%Y\")\n",
    "\n",
    "#Ahora conseguimos las fechas de las incidencias\n",
    "i = 0\n",
    "cont = 0\n",
    "while i<len(trs): \n",
    "    tr = trs[i]\n",
    "    col1 = tr.find_element_by_xpath(\"td[1]\")\n",
    "    fecha = col1.find_element_by_class_name(\"p2TablaIncidencias\").text\n",
    "    if fecha != dtoday:\n",
    "        print(fecha)\n",
    "        cont+=1\n",
    "    i+=1\n",
    "\n",
    "print(cont)\n"
   ]
  },
  {
   "cell_type": "markdown",
   "metadata": {},
   "source": [
    "#### Ejercicio 8 [3 puntos]\n",
    "Nos interesa el número de habitantes de los municipios con obras (segunda fila dentro de la columna PROVINCIA/POBLACIÓN). Para ello podemos consultar un fichero de municipios de la comunidad de madrid:\n",
    "\n",
    "https://raw.githubusercontent.com/RafaelCaballero/tdm/master/datos/municipiosmadrid.csv\n",
    "\n",
    "que tiene estos datos. Es un fichero CSV con cabecera, en particular la columna `municipio` tiene el nombre del muncipio, mientras que la columna `total`  contiene el total. Recorrer la lista de minicipios en la tabla de tráfico (no importa si se trata de incidencias u obras) y mostrar el nombre junto con su número de habitantes. Se valorará (0.5 puntos) qno mostrar el mismo municipio más de una vez. \n",
    "\n",
    "Nota: en ocasiones la línea viene en blanco, o lo que viene no es un municipiol, o vienen varios...en esos casos simplemente la cadena no se encontrará en la primera columna del fichero de municipios, no tenemos que hacer nada.\n",
    "\n",
    "Solución:"
   ]
  },
  {
   "cell_type": "code",
   "execution_count": 50,
   "metadata": {
    "scrolled": true
   },
   "outputs": [
    {
     "name": "stdout",
     "output_type": "stream",
     "text": [
      "ARANJUEZ 59607\n",
      "BOADILLA DEL MONTE 54570\n",
      "CENICIENTOS 2033\n",
      "CERCEDILLA 7026\n",
      "COSLADA 81661\n",
      "MADRID 3266126\n",
      "MECO 14305\n",
      "NAVAS DEL REY 2918\n",
      "RASCAFRIA 1664\n",
      "ROBREGORDO 58\n",
      "VELILLA DE SAN ANTONIO 12236\n",
      "VILLAREJO DE SALVANES 7335\n"
     ]
    }
   ],
   "source": [
    "#Importamos los datos de habitantes de cada municipio\n",
    "import pandas as pd\n",
    "valores = \"https://raw.githubusercontent.com/RafaelCaballero/tdm/master/datos/municipiosmadrid.csv\"\n",
    "df = pd.read_csv(valores,encoding= 'unicode_escape')\n",
    "\n",
    "#Conseguimos los nombres de los municipios\n",
    "i = 0\n",
    "cont = 0\n",
    "nombresMuni = []\n",
    "while i<len(obras): \n",
    "    tr = obras[i]\n",
    "    col1 = tr.find_element_by_xpath(\"td[4]\")\n",
    "    municipio = col1.find_element_by_class_name(\"p2TablaIncidencias\").text\n",
    "    if municipio not in nombresMuni:\n",
    "        nombresMuni.append(municipio)\n",
    "    i+=1\n",
    "\n",
    "nombresMuni.sort()\n",
    "\n",
    "#Recorremos los datos de la tabla y para los municipios que tienen obras mostramos su nombre y sus habitantes \n",
    "for index, r in df.iterrows():\n",
    "    if r.municipio in nombresMuni:\n",
    "        print(r.municipio + \" \" + str(r.total))"
   ]
  },
  {
   "cell_type": "code",
   "execution_count": 52,
   "metadata": {},
   "outputs": [],
   "source": [
    "driver.close()"
   ]
  },
  {
   "cell_type": "code",
   "execution_count": null,
   "metadata": {},
   "outputs": [],
   "source": []
  }
 ],
 "metadata": {
  "kernelspec": {
   "display_name": "Python 3",
   "language": "python",
   "name": "python3"
  },
  "language_info": {
   "codemirror_mode": {
    "name": "ipython",
    "version": 3
   },
   "file_extension": ".py",
   "mimetype": "text/x-python",
   "name": "python",
   "nbconvert_exporter": "python",
   "pygments_lexer": "ipython3",
   "version": "3.8.3"
  }
 },
 "nbformat": 4,
 "nbformat_minor": 2
}
